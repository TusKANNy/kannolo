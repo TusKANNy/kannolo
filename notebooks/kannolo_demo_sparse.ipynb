{
 "cells": [
  {
   "cell_type": "code",
   "execution_count": 1,
   "metadata": {},
   "outputs": [],
   "source": [
    "import numpy as np\n",
    "import ir_datasets\n",
    "from kannolo import SparsePlainHNSWf16"
   ]
  },
  {
   "cell_type": "markdown",
   "metadata": {},
   "source": [
    "### Load Data"
   ]
  },
  {
   "cell_type": "code",
   "execution_count": 2,
   "metadata": {},
   "outputs": [],
   "source": [
    "# MS MARCO SPLADE (sparse)\n",
    "queries_path = '/data3/silvio/datasets_numpy/queries/ms_marco_splade/'\n",
    "index_path = \"/data3/silvio/indexes/kannolo/kannolo_sparse_efc_2000_m_32_metric_ip\""
   ]
  },
  {
   "cell_type": "code",
   "execution_count": 3,
   "metadata": {},
   "outputs": [],
   "source": [
    "# Load data\n",
    "queries_components = np.load(queries_path + 'components.npy') # Query components\n",
    "queries_values = np.load(queries_path + 'values.npy') # Query values\n",
    "queries_offsets = np.load(queries_path + 'offsets.npy') # Query offsets\n",
    "index = SparsePlainHNSWf16.load(index_path) # Index"
   ]
  },
  {
   "cell_type": "code",
   "execution_count": 369,
   "metadata": {},
   "outputs": [],
   "source": [
    "# Choose a query\n",
    "query_id_1 = 1500\n",
    "query_id_2 = 5000\n",
    "query_components_1 = queries_components[queries_offsets[query_id_1]:queries_offsets[query_id_1 + 1]]\n",
    "query_values_1 = queries_values[queries_offsets[query_id_1]:queries_offsets[query_id_1 + 1]]\n",
    "query_components_2 = queries_components[queries_offsets[query_id_2]:queries_offsets[query_id_2 + 1]]\n",
    "query_values_2 = queries_values[queries_offsets[query_id_2]:queries_offsets[query_id_2 + 1]]"
   ]
  },
  {
   "cell_type": "markdown",
   "metadata": {},
   "source": [
    "### Search Queries"
   ]
  },
  {
   "cell_type": "code",
   "execution_count": 370,
   "metadata": {},
   "outputs": [],
   "source": [
    "# Set search parameters\n",
    "k = 10\n",
    "efSearch = 1000"
   ]
  },
  {
   "cell_type": "code",
   "execution_count": 371,
   "metadata": {},
   "outputs": [],
   "source": [
    "# Perform search\n",
    "dists_1, ids_1 = index.search(query_components_1, query_values_1, k, efSearch)\n",
    "dists_2, ids_2 = index.search(query_components_2, query_values_2, k, efSearch)\n",
    "dists_1 = dists_1.reshape(-1, 10)\n",
    "ids_1 = ids_1.reshape(-1, 10)\n",
    "dists_2 = dists_2.reshape(-1, 10)\n",
    "ids_2 = ids_2.reshape(-1, 10)"
   ]
  },
  {
   "cell_type": "markdown",
   "metadata": {},
   "source": [
    "### Collect Results"
   ]
  },
  {
   "cell_type": "code",
   "execution_count": 372,
   "metadata": {},
   "outputs": [],
   "source": [
    "# add ir_dataset dataset string id\n",
    "ir_dataset_string = \"msmarco-passage/dev/small\"\n",
    "# Load the dataset\n",
    "dataset = ir_datasets.load(\"msmarco-passage/dev/small\")"
   ]
  },
  {
   "cell_type": "code",
   "execution_count": 373,
   "metadata": {},
   "outputs": [],
   "source": [
    "query_passage_1 = [query for query in dataset.queries_iter()][query_id_1].text\n",
    "query_passage_2 = [query for query in dataset.queries_iter()][query_id_2].text"
   ]
  },
  {
   "cell_type": "code",
   "execution_count": 374,
   "metadata": {},
   "outputs": [],
   "source": [
    "documents_passages = dataset.docs_iter()[:]\n",
    "results_1 = [documents_passages[int(i)].text for i in ids_1[0]]\n",
    "results_2 = [documents_passages[int(i)].text for i in ids_2[0]]"
   ]
  },
  {
   "cell_type": "markdown",
   "metadata": {},
   "source": [
    "### Evaluation"
   ]
  },
  {
   "cell_type": "code",
   "execution_count": 375,
   "metadata": {},
   "outputs": [],
   "source": [
    "import ir_measures\n",
    "ir_measure = ir_measures.parse_measure(\"MRR@10\")"
   ]
  },
  {
   "cell_type": "code",
   "execution_count": null,
   "metadata": {},
   "outputs": [],
   "source": [
    "# Remapping the query ids for metric evaluation\n",
    "real_query_id_1 = [query for query in dataset.queries_iter()][query_id_1].query_id\n",
    "real_query_id_2 = [query for query in dataset.queries_iter()][query_id_2].query_id"
   ]
  },
  {
   "cell_type": "code",
   "execution_count": null,
   "metadata": {},
   "outputs": [],
   "source": [
    "# Parsing the results for metric evaluation\n",
    "results_for_metric_1 = []\n",
    "for dd, ii in zip(dists_1[0], ids_1[0]):\n",
    "    results_for_metric_1.append(ir_measures.ScoredDoc(real_query_id_1, str(ii), dd))\n",
    "\n",
    "results_for_metric_2 = []\n",
    "for dd, ii in zip(dists_2[0], ids_2[0]):\n",
    "    results_for_metric_2.append(ir_measures.ScoredDoc(real_query_id_2, str(ii), dd))"
   ]
  },
  {
   "cell_type": "code",
   "execution_count": null,
   "metadata": {},
   "outputs": [],
   "source": [
    "# Load the qrels (relevance judgments) for the dataset\n",
    "qrels = dataset.qrels\n",
    "qrel_1 = [q for q in qrels if q.query_id == real_query_id_1]\n",
    "qrel_2 = [q for q in qrels if q.query_id == real_query_id_2]"
   ]
  },
  {
   "cell_type": "code",
   "execution_count": 389,
   "metadata": {},
   "outputs": [
    {
     "name": "stdout",
     "output_type": "stream",
     "text": [
      "Metric evaluation for query 1 {RR@10: 0.14285714285714285}\n",
      "Metric evaluation for query 2 {RR@10: 0.0}\n"
     ]
    }
   ],
   "source": [
    "# Compute the MRR@10 metric\n",
    "print(\"Metric evaluation for query 1\", ir_measures.calc_aggregate([ir_measure], qrel_1, results_for_metric_1))\n",
    "print(\"Metric evaluation for query 2\", ir_measures.calc_aggregate([ir_measure], qrel_2, results_for_metric_2))"
   ]
  },
  {
   "cell_type": "markdown",
   "metadata": {},
   "source": [
    "### Display Results"
   ]
  },
  {
   "cell_type": "code",
   "execution_count": 386,
   "metadata": {},
   "outputs": [
    {
     "data": {
      "text/plain": [
       "'temperature in clearwater florida per month'"
      ]
     },
     "execution_count": 386,
     "metadata": {},
     "output_type": "execute_result"
    }
   ],
   "source": [
    "query_passage_1"
   ]
  },
  {
   "cell_type": "code",
   "execution_count": 387,
   "metadata": {},
   "outputs": [
    {
     "data": {
      "text/plain": [
       "['Clearwater: Annual Weather Averages. July is the hottest month in Clearwater with an average temperature of 83 °F (28 °C) and the coldest is January at 58 °F (14 °C) with the most daily sunshine hours at 11 in July. The wettest month is June with an average of 133.3mm of rain. The best month to swim in the sea is in August when the average sea temperature is 86 °F (30 °C).',\n",
       " 'Clearwater: Annual Weather Averages. July is the hottest month in Clearwater with an average temperature of 28 °C (83 °F) and the coldest is January at 14 °C (58 °F) with the most daily sunshine hours at 11 in July. The wettest month is June with an average of 133.3mm of rain. The best month to swim in the sea is in August when the average sea temperature is 30 °C (86 °F).',\n",
       " 'Clearwater: Annual Weather Averages. July is the hottest month in Clearwater with an average temperature of 28°C (83°F) and the coldest is January at 14°C (58°F) with the most daily sunshine hours at 11 in July. The wettest month is June with an average of 133.3mm of rain. The best month to swim in the sea is in August when the average sea temperature is 30 °C (86 °F). Average Temperature: Clearwater',\n",
       " 'Clearwater: Annual Weather Averages July is the hottest month in Clearwater with an average temperature of 28 °C (83 °F) and the coldest is January at 14 °C (58 °F) with the most daily sunshine hours at 11 in July. The wettest month is June with an average of 133.3mm of rain. The best month to swim in the sea is in August when the average sea temperature is 30 °C (86 °F).',\n",
       " 'Clearwater: Annual Weather Averages. July is the hottest month in Clearwater with an average temperature of 28°C (83°F) and the coldest is January at 14°C (58°F) with the most daily sunshine hours at 11 in July. The wettest month is June with an average of 133.3mm of rain.',\n",
       " 'Clearwater: Annual Weather Averages. July is the hottest month in Clearwater with an average temperature of 28°C (83°F) and the coldest is January at 14°C (58°F) with the most daily sunshine hours at 11 in July.he wettest month is June with an average of 133.3mm of rain. The best month to swim in the sea is in August when the average sea temperature is 30°C (86°F).',\n",
       " \"Clearwater enjoys moderately hot temperatures in summer with highs in the 80s or 90s Fahrenheit. The 90-degree weather can show up anytime from May to October. But it normally doesn't get any hotter than 100 °F (38 °C) at this vacation destination. Days per month in Clearwater of at least 70, 80 or 90 °F.\",\n",
       " 'Clearwater: Annual Weather Averages. July is the hottest month in Clearwater with an average temperature of 28 °C (83 °F) and the coldest is January at 14 °C (58 °F) with the most daily sunshine hours at 11 in July. The wettest month is June with an average of 133.3mm of rain.',\n",
       " 'Clearwater: Annual Weather Averages. July is the hottest month in Clearwater with an average temperature of 28°C (83°F) and the coldest is January at 14°C (58°F) with the most daily sunshine hours at 11 in July.',\n",
       " 'Clearwater: Annual Weather Averages July is the hottest month in Clearwater with an average temperature of 28 °C (83 °F) and the coldest is January at 14 °C (58 °F) with the most daily sunshine hours at 11 in July.']"
      ]
     },
     "execution_count": 387,
     "metadata": {},
     "output_type": "execute_result"
    }
   ],
   "source": [
    "results_1"
   ]
  },
  {
   "cell_type": "markdown",
   "metadata": {},
   "source": [
    "##### Sparse representation better capture the specific question thanks to word-matching"
   ]
  },
  {
   "cell_type": "code",
   "execution_count": 110,
   "metadata": {},
   "outputs": [
    {
     "data": {
      "text/plain": [
       "'definition of dignity for kids'"
      ]
     },
     "execution_count": 110,
     "metadata": {},
     "output_type": "execute_result"
    }
   ],
   "source": [
    "query_passage_2"
   ]
  },
  {
   "cell_type": "code",
   "execution_count": 111,
   "metadata": {},
   "outputs": [
    {
     "data": {
      "text/plain": [
       "['For many children, “ dignity ” is an unfamiliar term. You have a wonderful opportunity to talk to the children in your life about the dignity that resides in each of us and to help them develop the values and character traits that exemplify a dignified life.hildren need to hear in your own words what dignity means to you and why it is something you value. Talk about people you admire for living dignified lives. Public figures such as Mother Teresa and Martin Luther King, Jr. may first come to mind, but don’t overlook those in your immediate circle of family and friends.',\n",
       " 'dignity. Possession of respect from others or self-respect; the life and rights of an individual being respected by the group. Some believe that a terminally ill patient or one in a vegetative state should be allowed to terminate their life; to die with dignity.',\n",
       " 'Freebase(5.00 / 1 vote)Rate this definition: Dignity. Dignity is a term used in moral, ethical, legal, and political discussions to signify that a being has an innate right to be valued and receive ethical treatment. It is an extension of the Enlightenment-era concepts of inherent, inalienable rights.',\n",
       " 'Definition of dignity for English Language Learners. : 1  a way of appearing or behaving that suggests seriousness and self-control. : 2  the quality of being worthy of honor or respect.',\n",
       " 'Freebase(5.00 / 1 vote)Rate this definition: Dignity is a term used in moral, ethical, legal, and political discussions to signify that a being has an innate right to be valued and receive ethical treatment. It is an extension of the Enlightenment-era concepts of inherent, inalienable rights.',\n",
       " 'Left to my own devices, I define dignity as “public recognition of my self-worth.” At its simplest, dignity for me says that individuals have many roles and hold many responsibilities; we are never only the client or the customer or the parent or the patient.',\n",
       " 'Dignity refers to an individual’s inherent value and worth and is strongly linked to respect, recognition, self-worth and the possibility to make choices. We, persons with mental health problems, are facing high levels of stigma and discrimination.',\n",
       " 'Dignity is honorableness, a quality of the person being elevated. Respect is a viewpoint, a quality of the person doing the elevating. In your example context, there is considerable overlap of connotation, and one could be used in place of the other.',\n",
       " 'Dignity is honorableness, a quality of the person being elevated. Respect is a viewpoint, a quality of the person doing the elevating. In your example context, there is considerable overlap of connotation, and one could be used in place of the other. In other contexts, it would be hard to do so.',\n",
       " 'Definition of dignity. plural. dignities. 1 : the quality or state of being worthy, honored, or esteemed. 2a : high rank, office, or positionb : a legal title of nobility or honor. 3 archaic : dignitary. 4 : formal reserve or seriousness of manner, appearance, or language.']"
      ]
     },
     "execution_count": 111,
     "metadata": {},
     "output_type": "execute_result"
    }
   ],
   "source": [
    "results_2"
   ]
  },
  {
   "cell_type": "markdown",
   "metadata": {},
   "source": [
    "##### Sparse representations in this case are fooled by the matching word. \"kids\" is associated to \"children\" and the result is considered relevant. However, the relevant document containing a real definition of dignity is absent in the results."
   ]
  }
 ],
 "metadata": {
  "kernelspec": {
   "display_name": "base",
   "language": "python",
   "name": "python3"
  },
  "language_info": {
   "codemirror_mode": {
    "name": "ipython",
    "version": 3
   },
   "file_extension": ".py",
   "mimetype": "text/x-python",
   "name": "python",
   "nbconvert_exporter": "python",
   "pygments_lexer": "ipython3",
   "version": "3.12.2"
  }
 },
 "nbformat": 4,
 "nbformat_minor": 2
}
